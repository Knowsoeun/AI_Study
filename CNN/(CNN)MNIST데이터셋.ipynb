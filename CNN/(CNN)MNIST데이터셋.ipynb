{
  "nbformat": 4,
  "nbformat_minor": 0,
  "metadata": {
    "colab": {
      "name": "(CNN)MNIST데이터셋.ipynb",
      "provenance": [],
      "collapsed_sections": [],
      "authorship_tag": "ABX9TyNZrMHkUUSSvFYRsCxFcZCZ",
      "include_colab_link": true
    },
    "kernelspec": {
      "name": "python3",
      "display_name": "Python 3"
    },
    "language_info": {
      "name": "python"
    }
  },
  "cells": [
    {
      "cell_type": "markdown",
      "metadata": {
        "id": "view-in-github",
        "colab_type": "text"
      },
      "source": [
        "<a href=\"https://colab.research.google.com/github/Knowsoeun/AI_Study/blob/main/(CNN)MNIST%EB%8D%B0%EC%9D%B4%ED%84%B0%EC%85%8B.ipynb\" target=\"_parent\"><img src=\"https://colab.research.google.com/assets/colab-badge.svg\" alt=\"Open In Colab\"/></a>"
      ]
    },
    {
      "cell_type": "code",
      "execution_count": 33,
      "metadata": {
        "id": "CzYFWGAIPOPs"
      },
      "outputs": [],
      "source": [
        "# package를 import한다.\n",
        "\"\"\" \n",
        "package : 다른 사람들이 만들어 놓은 것을 가져와서 사용\n",
        "\"\"\"\n",
        "from __future__ import print_function\n",
        "import keras\n",
        "from keras.datasets import mnist\n",
        "from keras.utils import np_utils\n",
        "from keras.models import Sequential\n",
        "from keras.layers import Dense, Dropout, Flatten\n",
        "from keras.layers import Conv2D, MaxPooling2D\n",
        "from keras import backend as K\n",
        "\n",
        "\n",
        "import matplotlib.pyplot as plt"
      ]
    },
    {
      "cell_type": "code",
      "source": [
        "# MNIST 데이터를 가져오고 적절히 가공한다.\n",
        "\n",
        "img_rows, img_cols = 28, 28\n",
        "\n",
        "# train 데이터와 test데이터로 나눈다.\n",
        "(x_train, y_train), (x_test, y_test) = mnist.load_data() \n",
        "\"\"\"\n",
        "mnist.load_data() : 실제로 MNIST 데이터를 가져오는 코드 \n",
        "MNIST데이터는 train와 test 데이터가 들어있으므로 두 개로 가져왔다.\n",
        "\n",
        "x : 실제 이미지 저장\n",
        "y : 이미지가 어떤 숫자인지 데이터 저장\n",
        "\"\"\"\n",
        "print(K.image_data_format())\n",
        "\n",
        "# 받은 이미지 데이터 구조를 재구성한다.\n",
        "x_train = x_train.reshape(x_train.shape[0], img_rows, img_cols, 1)\n",
        "x_test = x_test.reshape(x_test.shape[0], img_rows, img_cols, 1)\n",
        "input_shape = (img_rows, img_cols, 1)\n",
        "\n",
        "\"\"\"\n",
        "이미지 데이터의 색은 8비트의 정수로 되어있다. tensorflow의 경우에는 데이터 입력을 받을 때 데이터가 부동소수점인 것을\n",
        "선호하므로 float32로 바꿔준다. \n",
        "하나의 픽셀이 8비트로 표시되었으므로 0~255로 값을 가진다.\n",
        "tensorflow는 0~1 이내의 값을 선호하므로 /255를 해서 0~1이내의 값으로 만들어준다.\n",
        "\n",
        "\"\"\"\n",
        "x_train = x_train.astype('float32')\n",
        "x_test = x_test.astype('float32')\n",
        "x_train /= 255\n",
        "x_test /= 255\n",
        "print('x_train shape:', x_train.shape)\n",
        "print(x_train.shape[0], 'train samples')\n",
        "print(x_test.shape[0], 'test samples')\n",
        "\n",
        "\"\"\"\n",
        "y쪽 데이터에서 이미지가 어떤 숫자인지를 나타내는 것도 바꿔주어야 한다. \n",
        "MNIST 데이터 셋 자체는 각각의 이미지에 대해서 그 숫자가 무엇인지 y에 적혀있다.\n",
        "CNN 출력은 어떤 것에 대해서 답이 5, 3이 나오는게 아니라 10개의 출력 데이터가 나오고 각각의 확률값이 나오는 것이므로\n",
        "MNIST 데이터셋에서 가져온 y데이터와 CNN 출력을 맞춰주어야 한다.\n",
        "ex) 정답이 5이면 -> 0~9까지의 숫자중에 5일 확률이 1이고, 나머지에 대해선 확률이 0이다.\n",
        "\"\"\"\n",
        "# 클래스 벡터를 바이너리 클래스 행렬로 변환한다.\n",
        "y_train = keras.utils.np_utils.to_categorical(y_train, 10)\n",
        "y_test = keras.utils.np_utils.to_categorical(y_test, 10)"
      ],
      "metadata": {
        "colab": {
          "base_uri": "https://localhost:8080/"
        },
        "id": "ck2YEp8zPr-w",
        "outputId": "68056758-4627-46c4-f674-b20aab2b50e3"
      },
      "execution_count": 34,
      "outputs": [
        {
          "output_type": "stream",
          "name": "stdout",
          "text": [
            "channels_last\n",
            "x_train shape: (60000, 28, 28, 1)\n",
            "60000 train samples\n",
            "10000 test samples\n"
          ]
        }
      ]
    },
    {
      "cell_type": "code",
      "source": [
        "# CNN 모델\n",
        "model = Sequential()\n",
        "\"\"\"\n",
        "Sequential : CNN을 구성하는 층들을 차례차례 하나씩 기술하면, \n",
        "             바로 앞에 기술된 층의 출력이 바로 다음에 있는 층의 입력으로 사용된다.\n",
        "\"\"\"\n",
        "model.add(Conv2D(32, kernel_size=(3, 3),  # layer1 : 합성곱층. (커널 3x3. 필터수 32개. 활성화 함수 relu)\n",
        "                 activation='relu',\n",
        "                 input_shape=input_shape))\n",
        "model.add(Conv2D(64, (3, 3), activation='relu')) # layer2 : 합성곱층. (커널 3x3. 필터수 64개. 활성화 함수 relu)\n",
        "model.add(MaxPooling2D(pool_size=(2, 2))) # layer3 : 가로, 세로 길이가 각각 절반으로 줄어든다. \n",
        "model.add(Dropout(0.25)) # layer4 : 학습을 용이하게 하기 위해 넣는 층\n",
        "model.add(Flatten())     # layer5 : 합성곱층3차원 -> 완전연결층1차원이므로 Flatten(3차원을 1차원으로 구조 변경)을 쓴다.\n",
        "model.add(Dense(128, activation='relu')) # layer6 : 완전연결층. (출력 128개. 활성화 함수 relu)\n",
        "model.add(Dropout(0.5)) # layer7 : 학습을 용이하게 하기 위해 넣는 층\n",
        "model.add(Dense(10, activation='softmax')) # layer8 : 총 10개이므로 10으로 함. (활성화 함수 softmax)\n",
        "\n",
        "# summarize model.\n",
        "model.summary()"
      ],
      "metadata": {
        "colab": {
          "base_uri": "https://localhost:8080/"
        },
        "id": "kMyxUMOHPmXP",
        "outputId": "b9bbb85d-6465-4638-e37b-11c6f294bfbb"
      },
      "execution_count": 35,
      "outputs": [
        {
          "output_type": "stream",
          "name": "stdout",
          "text": [
            "Model: \"sequential_3\"\n",
            "_________________________________________________________________\n",
            " Layer (type)                Output Shape              Param #   \n",
            "=================================================================\n",
            " conv2d_6 (Conv2D)           (None, 26, 26, 32)        320       \n",
            "                                                                 \n",
            " conv2d_7 (Conv2D)           (None, 24, 24, 64)        18496     \n",
            "                                                                 \n",
            " max_pooling2d_3 (MaxPooling  (None, 12, 12, 64)       0         \n",
            " 2D)                                                             \n",
            "                                                                 \n",
            " dropout_6 (Dropout)         (None, 12, 12, 64)        0         \n",
            "                                                                 \n",
            " flatten_3 (Flatten)         (None, 9216)              0         \n",
            "                                                                 \n",
            " dense_6 (Dense)             (None, 128)               1179776   \n",
            "                                                                 \n",
            " dropout_7 (Dropout)         (None, 128)               0         \n",
            "                                                                 \n",
            " dense_7 (Dense)             (None, 10)                1290      \n",
            "                                                                 \n",
            "=================================================================\n",
            "Total params: 1,199,882\n",
            "Trainable params: 1,199,882\n",
            "Non-trainable params: 0\n",
            "_________________________________________________________________\n"
          ]
        }
      ]
    },
    {
      "cell_type": "code",
      "source": [
        "# 어떻게 학습할지를 지정한다.\n",
        "import tensorflow as tf \n",
        "model.compile(loss=keras.losses.categorical_crossentropy,\n",
        "              optimizer=tf.optimizers.Adadelta(),\n",
        "              metrics=['accuracy'])\n",
        "\n",
        "# model.fit으로 실제 학습을 한다.\n",
        "history = model.fit(x_train, y_train,\n",
        "          batch_size=256, # Batch_size : CNN을 학습하는 방법에서 이용되는 개념\n",
        "                          # 128개 학습데이터를 처리할 때마다 한번씩 내부의 계수를 업데이트한다는 의미.\n",
        "          epochs=1,  # Epochs : 학습 데이터 안에 있는 모든 이미지를 1회에 한번에 다 처리하는 것.\n",
        "                      # 모든 이미지를 12번 사용하는 동안 학습한다는 의미.\n",
        "          verbose=1,\n",
        "          validation_data=(x_test, y_test))\n"
      ],
      "metadata": {
        "colab": {
          "base_uri": "https://localhost:8080/"
        },
        "id": "AXlxHRtWPkBP",
        "outputId": "ef1d3615-dc51-41c8-90cf-4df7831c687b"
      },
      "execution_count": 42,
      "outputs": [
        {
          "output_type": "stream",
          "name": "stdout",
          "text": [
            "235/235 [==============================] - 174s 737ms/step - loss: 2.2713 - accuracy: 0.1469 - val_loss: 2.2496 - val_accuracy: 0.2129\n"
          ]
        }
      ]
    },
    {
      "cell_type": "code",
      "source": [
        "# 테스트 데이터로 방금 학습된 CNN model를 평가한다.\n",
        "score = model.evaluate(x_test, y_test, verbose=0)\n",
        "print('Test loss:', score[0]) # loss : CNN이 예측한 값이 얼마나 틀렸는지 나타내는 정도\n",
        "print('Test accuracy:', score[1])"
      ],
      "metadata": {
        "colab": {
          "base_uri": "https://localhost:8080/"
        },
        "id": "YNi-Ng_pPhZT",
        "outputId": "2d48be8e-3532-48db-f6a9-d30913e707bd"
      },
      "execution_count": 43,
      "outputs": [
        {
          "output_type": "stream",
          "name": "stdout",
          "text": [
            "Test loss: 2.2495813369750977\n",
            "Test accuracy: 0.21289999783039093\n"
          ]
        }
      ]
    },
    {
      "cell_type": "code",
      "source": [
        "# 학습이 어떤 과정을 통해서 이루어졌는지를 확인한다.\n",
        "# list all data in history\n",
        "print(history.history.keys())\n",
        "\n",
        "# summarize history for accuracy\n",
        "plt.plot(history.history['accuracy'])\n",
        "plt.plot(history.history['val_accuracy'])\n",
        "plt.title('model accuracy')\n",
        "plt.ylabel('accuracy')\n",
        "plt.xlabel('epoch')\n",
        "plt.legend(['train', 'test'], loc='upper left')\n",
        "plt.show()\n",
        "# summarize history for loss\n",
        "plt.plot(history.history['loss'])\n",
        "plt.plot(history.history['val_loss'])\n",
        "plt.title('model loss')\n",
        "plt.ylabel('loss')\n",
        "plt.xlabel('epoch')\n",
        "plt.legend(['train', 'test'], loc='upper left')\n",
        "plt.show()"
      ],
      "metadata": {
        "colab": {
          "base_uri": "https://localhost:8080/",
          "height": 591
        },
        "id": "f8FPTB3PPekO",
        "outputId": "b87f284c-4fd9-4fd5-fdcd-3e33e52d3f19"
      },
      "execution_count": 44,
      "outputs": [
        {
          "output_type": "stream",
          "name": "stdout",
          "text": [
            "dict_keys(['loss', 'accuracy', 'val_loss', 'val_accuracy'])\n"
          ]
        },
        {
          "output_type": "display_data",
          "data": {
            "text/plain": [
              "<Figure size 432x288 with 1 Axes>"
            ],
            "image/png": "[encoded data removed]"
          },
          "metadata": {
            "needs_background": "light"
          }
        },
        {
          "output_type": "display_data",
          "data": {
            "text/plain": [
              "<Figure size 432x288 with 1 Axes>"
            ],
            "image/png": "[encoded data removed]"
          },
          "metadata": {
            "needs_background": "light"
          }
        }
      ]
    },
    {
      "cell_type": "code",
      "source": [
        "# 학습한 모델을 저장한다. \n",
        "\"\"\"\n",
        "*텐서플로우에서 CNN을 저장하는 방법 2가지\n",
        "첫번째. CNN구조와 CNN에서 학습된 계수들의 데이터를 따로 저장한다.\n",
        "두번째. CNN의 구조와 계수를 함께 저장한다.\n",
        "\"\"\"\n",
        "model.save(\"mnist_cnn.h5\")\n",
        "print(\"Saved model to disk\")"
      ],
      "metadata": {
        "colab": {
          "base_uri": "https://localhost:8080/"
        },
        "id": "yxj2P9EAPYH3",
        "outputId": "2027b81f-94ec-4c98-c46d-92f748c1f141"
      },
      "execution_count": 45,
      "outputs": [
        {
          "output_type": "stream",
          "name": "stdout",
          "text": [
            "Saved model to disk\n"
          ]
        }
      ]
    },
    {
      "cell_type": "code",
      "source": [
        ""
      ],
      "metadata": {
        "id": "WqoEf0rPVYqL"
      },
      "execution_count": null,
      "outputs": []
    }
  ]
}
