{
  "nbformat": 4,
  "nbformat_minor": 0,
  "metadata": {
    "colab": {
      "name": "Cifar-10_2.ipynb",
      "provenance": [],
      "collapsed_sections": [],
      "authorship_tag": "ABX9TyM77XvxvyvKgOLWEHF0V70Q",
      "include_colab_link": true
    },
    "kernelspec": {
      "name": "python3",
      "display_name": "Python 3"
    },
    "language_info": {
      "name": "python"
    }
  },
  "cells": [
    {
      "cell_type": "markdown",
      "metadata": {
        "id": "view-in-github",
        "colab_type": "text"
      },
      "source": [
        "<a href=\"https://colab.research.google.com/github/Knowsoeun/AI_Study/blob/main/Cifar_10_2.ipynb\" target=\"_parent\"><img src=\"https://colab.research.google.com/assets/colab-badge.svg\" alt=\"Open In Colab\"/></a>"
      ]
    },
    {
      "cell_type": "code",
      "execution_count": null,
      "metadata": {
        "id": "TchM1pu0eVKz"
      },
      "outputs": [],
      "source": [
        "'''\n",
        "#CIFAR10 작은 이미지 데이터 세트에 대해 간단한 심층 CNN을 교육한다.\n",
        "\n",
        "25에폭에서는 75%의 검증 정확도에 도달하고 50에폭 후에는 79%에 도달한다.\n",
        "(하지만 그 시점에서는 아직 미적합하다).\n",
        "'''\n",
        "\n",
        "from __future__ import print_function\n",
        "import keras\n",
        "from keras.datasets import cifar10\n",
        "from keras.preprocessing.image import ImageDataGenerator\n",
        "from keras.models import Sequential\n",
        "from keras.layers import Dense, Dropout, Activation, Flatten\n",
        "from keras.layers import Conv2D, MaxPooling2D\n",
        "from keras.models import load_model\n",
        "from keras import backend as K\n",
        "\n",
        "import matplotlib.pyplot as plt\n",
        "import numpy as np\n",
        "\n",
        "import os\n",
        "\n",
        "num_classes = 10\n",
        "\n",
        "save_dir = os.path.join(os.getcwd(), 'saved_models')\n",
        "model_name = 'keras_cifar10_trained_model.h5'\n",
        "\n",
        "# train과 test 데이터를 나눈다.\n",
        "(x_train, y_train), (x_test, y_test) = cifar10.load_data()\n",
        "print('x_train shape:', x_train.shape)\n",
        "print(x_train.shape[0], 'train samples')\n",
        "print(x_test.shape[0], 'test samples')\n",
        "\n",
        "# 클래스 벡터를 이진 클래스 행렬로 변환한다.\n",
        "y_train = keras.utils.to_categorical(y_train, num_classes)\n",
        "y_test = keras.utils.to_categorical(y_test, num_classes)\n",
        "\n",
        "x_train = x_train.astype('float32')\n",
        "x_test = x_test.astype('float32')\n",
        "x_train /= 255\n",
        "x_test /= 255\n",
        "\n",
        "model_path = os.path.join(save_dir, model_name)\n",
        "model = load_model(model_path)\n",
        "\n",
        "synset = ['airplane', 'automobile', 'bird', 'cat', 'deer', 'dog', 'frog', 'horse', 'ship', 'truck']\n",
        "n = 0\n",
        "plt.imshow(x_test[n].reshape(32, 32, 3), interpolation='nearest')\n",
        "plt.show()\n",
        "answer = np.argmax(model.predict(x_test[n].reshape((1, 32, 32, 3))), axis=-1)\n",
        "print('The Answer is ', synset[answer[0]])\n",
        "\n",
        "predicted_result = model.predict(x_test)\n",
        "predicted_labels = np.argmax(predicted_result, axis=1)\n",
        "test_labels = np.argmax(y_test, axis=1)\n",
        "wrong_result = []\n",
        "\n",
        "for n in range(0, len(test_labels)):\n",
        "    if predicted_labels[n] != test_labels[n]:\n",
        "        wrong_result.append(n)\n",
        "\n",
        "count = 0\n",
        "nrows = 4\n",
        "ncols = 4\n",
        "plt.figure(figsize=(12,8))\n",
        "\n",
        "for n in wrong_result:\n",
        "    count += 1\n",
        "    plt.subplot(nrows, ncols, count)\n",
        "    plt.imshow(x_test[n].reshape(32, 32, 3), cmap='Greys', interpolation='nearest')\n",
        "    tmp = \"Label:\" + synset[test_labels[n]] + \", Prediction:\" + synset[predicted_labels[n]]\n",
        "    plt.title(tmp)\n",
        "    if count == 16:\n",
        "        break\n",
        "\n",
        "plt.tight_layout()\n",
        "plt.show()"
      ]
    }
  ]
}